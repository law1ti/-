{
 "cells": [
  {
   "cell_type": "code",
   "execution_count": 3,
   "metadata": {},
   "outputs": [],
   "source": [
    "import win32com.client as win32\n",
    "import pandas as pd\n"
   ]
  },
  {
   "cell_type": "code",
   "execution_count": 4,
   "metadata": {},
   "outputs": [],
   "source": [
    "hwp = win32.gencache.EnsureDispatch(\"hwpframe.hwpobject\")  # 한/글 실행하기\n",
    "hwp.XHwpWindows.Item(0).Visible = True  # 백그라운드 숨김 해제\n",
    "hwp.Open('C:/Users/speec/Desktop/엑셀-한글자동화/quizeee.hwpx') # 한글파일 열기\n",
    "excel = pd.read_excel('C:/Users/speec/Desktop/엑셀-한글자동화/quize.xlsx')"
   ]
  },
  {
   "cell_type": "code",
   "execution_count": 5,
   "metadata": {},
   "outputs": [
    {
     "name": "stdout",
     "output_type": "stream",
     "text": [
      "['퀴즈1', '퀴즈1', '퀴즈1', '퀴즈1', '퀴즈1', '퀴즈1', '퀴즈1', '퀴즈1', '퀴즈1']\n"
     ]
    }
   ],
   "source": [
    "flist = [ i for i in hwp.GetFieldList().split('\\x02')]\n",
    "print(flist)"
   ]
  },
  {
   "cell_type": "code",
   "execution_count": 6,
   "metadata": {},
   "outputs": [],
   "source": [
    "for page in range(7):\n",
    "    for field in flist:\n",
    "        hwp.PutFieldText(f'{field}{{{{{page}}}}}',excel[field].iloc[page])"
   ]
  }
 ],
 "metadata": {
  "kernelspec": {
   "display_name": "Python 3",
   "language": "python",
   "name": "python3"
  },
  "language_info": {
   "codemirror_mode": {
    "name": "ipython",
    "version": 3
   },
   "file_extension": ".py",
   "mimetype": "text/x-python",
   "name": "python",
   "nbconvert_exporter": "python",
   "pygments_lexer": "ipython3",
   "version": "3.11.2"
  },
  "orig_nbformat": 4
 },
 "nbformat": 4,
 "nbformat_minor": 2
}
